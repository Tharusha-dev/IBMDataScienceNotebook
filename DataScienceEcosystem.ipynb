{
 "cells": [
  {
   "cell_type": "markdown",
   "id": "7cf2400c-ab79-46f5-b332-b74732ff12ea",
   "metadata": {},
   "source": [
    "# Data Science Tools and Ecosystem"
   ]
  },
  {
   "cell_type": "markdown",
   "id": "d32cb945-d52e-447c-b39a-bac20fedbc63",
   "metadata": {},
   "source": [
    "In this notebook, Data Science Tools and Ecosystem are summarized."
   ]
  },
  {
   "cell_type": "markdown",
   "id": "840288f0-e0b5-4bbd-8548-b5eb0c07c812",
   "metadata": {},
   "source": [
    "**Objectives:**\n",
    "- List popular languages for Data Science\n",
    "- List commonly used libraries used bu data scientist\n",
    "- List data science tools"
   ]
  },
  {
   "cell_type": "markdown",
   "id": "054208fc-67ac-4d58-8bad-c0a40d638690",
   "metadata": {},
   "source": [
    "Some of the popular languages that Data Scientists use are:\n",
    "1.   Python\n",
    "2.   R\n",
    "3.   Julia"
   ]
  },
  {
   "cell_type": "markdown",
   "id": "6d510dbc-6714-46ab-8d14-ef86a358438a",
   "metadata": {},
   "source": [
    "Some of the commonly used libraries used by Data Scientists include:\n",
    "1.   Scikit\n",
    "2.   TensorFlow\n",
    "3.   Py-torch\n"
   ]
  },
  {
   "cell_type": "markdown",
   "id": "ed63af34-36f4-48c5-857d-3c6b87ba8f44",
   "metadata": {},
   "source": [
    "| Data Science Tools |\n",
    "| --- |\n",
    "| Jupyter Notebook |\n",
    "| RStudio |\n",
    "| Apache Zeppelin |\n"
   ]
  },
  {
   "cell_type": "markdown",
   "id": "5bf55ba9-9dac-4ccf-a846-81233d7a9901",
   "metadata": {},
   "source": [
    "### Below are a few examples of evaluating arithmetic expressions in Python"
   ]
  },
  {
   "cell_type": "code",
   "execution_count": 1,
   "id": "486bbfed-a7de-4231-a39c-90b3c60abcfc",
   "metadata": {
    "tags": []
   },
   "outputs": [
    {
     "data": {
      "text/plain": [
       "17"
      ]
     },
     "execution_count": 1,
     "metadata": {},
     "output_type": "execute_result"
    }
   ],
   "source": [
    "#his a simple arithmetic expression to mutiply then add integers\n",
    "(3*4)+5"
   ]
  },
  {
   "cell_type": "code",
   "execution_count": 2,
   "id": "231a026a-ae9d-4e7c-8135-c9af196918dc",
   "metadata": {
    "tags": []
   },
   "outputs": [
    {
     "data": {
      "text/plain": [
       "3.3333333333333335"
      ]
     },
     "execution_count": 2,
     "metadata": {},
     "output_type": "execute_result"
    }
   ],
   "source": [
    "#This will convert 200 minutes to hours by diving by 60\n",
    "200/60"
   ]
  },
  {
   "cell_type": "markdown",
   "id": "3f6ba7d4-93ec-407c-a693-bfefdb5f919d",
   "metadata": {},
   "source": [
    "## Author\n",
    "Tharusha Maduwantha Jayasooriya"
   ]
  }
 ],
 "metadata": {
  "kernelspec": {
   "display_name": "Python",
   "language": "python",
   "name": "conda-env-python-py"
  },
  "language_info": {
   "codemirror_mode": {
    "name": "ipython",
    "version": 3
   },
   "file_extension": ".py",
   "mimetype": "text/x-python",
   "name": "python",
   "nbconvert_exporter": "python",
   "pygments_lexer": "ipython3",
   "version": "3.7.12"
  }
 },
 "nbformat": 4,
 "nbformat_minor": 5
}
